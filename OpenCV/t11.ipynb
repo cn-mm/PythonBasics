{
 "cells": [
  {
   "cell_type": "code",
   "execution_count": 1,
   "metadata": {},
   "outputs": [],
   "source": [
    "#TEMPLATE MATCHING"
   ]
  },
  {
   "cell_type": "code",
   "execution_count": 14,
   "metadata": {},
   "outputs": [],
   "source": [
    "#MODULES\n",
    "import cv2\n",
    "import numpy as np"
   ]
  },
  {
   "cell_type": "code",
   "execution_count": 25,
   "metadata": {},
   "outputs": [
    {
     "name": "stdout",
     "output_type": "stream",
     "text": [
      "19 22\n"
     ]
    }
   ],
   "source": [
    "img_rgb = cv2.imread('ports.jpg')\n",
    "img_gray = cv2.cvtColor(img_rgb, cv2.COLOR_BGR2GRAY)\n",
    "\n",
    "template = cv2.imread('template.jpg',0)\n",
    "w, h = template.shape[::-1]\n",
    "print(w,h)"
   ]
  },
  {
   "cell_type": "code",
   "execution_count": 26,
   "metadata": {},
   "outputs": [],
   "source": [
    "res = cv2.matchTemplate(img_gray,template,cv2.TM_CCOEFF_NORMED)\n",
    "threshold = 0.8\n",
    "loc = np.where( res >= threshold)"
   ]
  },
  {
   "cell_type": "code",
   "execution_count": 27,
   "metadata": {},
   "outputs": [
    {
     "name": "stdout",
     "output_type": "stream",
     "text": [
      "(101, 545)\n",
      "(101, 546)\n",
      "(102, 545)\n",
      "(102, 546)\n",
      "(102, 547)\n",
      "(103, 545)\n",
      "(103, 546)\n",
      "(151, 543)\n",
      "(151, 544)\n",
      "(151, 545)\n",
      "(152, 543)\n",
      "(152, 544)\n",
      "(152, 545)\n",
      "(153, 543)\n",
      "(153, 544)\n",
      "(153, 545)\n",
      "(199, 541)\n",
      "(200, 540)\n",
      "(200, 541)\n",
      "(201, 540)\n",
      "(201, 541)\n",
      "(246, 538)\n"
     ]
    }
   ],
   "source": [
    "for pt in zip(*loc[::1]):\n",
    "    print(pt)"
   ]
  },
  {
   "cell_type": "code",
   "execution_count": 28,
   "metadata": {},
   "outputs": [],
   "source": [
    "for pt in zip(*loc[::-1]):\n",
    "    cv2.rectangle(img_rgb, pt, (pt[0] + w, pt[1] + h), (0,255,255), 2)\n",
    "                #image;   point; shape of the template; color: yellow; ;line thickness        \n",
    "\n",
    "cv2.imshow('Detected',img_rgb)\n",
    "cv2.waitKey(0)\n",
    "cv2.destroyAllWindows()"
   ]
  },
  {
   "cell_type": "code",
   "execution_count": null,
   "metadata": {},
   "outputs": [],
   "source": []
  }
 ],
 "metadata": {
  "kernelspec": {
   "display_name": "Python [conda env:env1] *",
   "language": "python",
   "name": "conda-env-env1-py"
  },
  "language_info": {
   "codemirror_mode": {
    "name": "ipython",
    "version": 3
   },
   "file_extension": ".py",
   "mimetype": "text/x-python",
   "name": "python",
   "nbconvert_exporter": "python",
   "pygments_lexer": "ipython3",
   "version": "3.8.3"
  }
 },
 "nbformat": 4,
 "nbformat_minor": 4
}
