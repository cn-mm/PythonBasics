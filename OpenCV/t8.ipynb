{
 "cells": [
  {
   "cell_type": "code",
   "execution_count": null,
   "metadata": {},
   "outputs": [],
   "source": [
    "# BLURRING AND SMOOTHING"
   ]
  },
  {
   "cell_type": "code",
   "execution_count": 7,
   "metadata": {},
   "outputs": [],
   "source": [
    "#MODULES\n",
    "import cv2\n",
    "import numpy as np\n",
    "\n",
    "cap = cv2.VideoCapture(0) #0 to use webcam\n",
    "\n",
    "while(1):                 #while loop used for videos\n",
    "    _, frame = cap.read() \n",
    "    hsv = cv2.cvtColor(frame, cv2.COLOR_BGR2HSV) #hue saturation and value \n",
    "    \n",
    "    #hsv hue set value \n",
    "    lower_red = np.array([50,50,0])\n",
    "    upper_red = np.array([255,200,200])\n",
    "    \n",
    "    mask = cv2.inRange(hsv, lower_red, upper_red) #mask will be everything within the defined ranges\n",
    "    res = cv2.bitwise_and(frame,frame, mask= mask) #where there is something in the range and the mask is present\n",
    "\n",
    "    #mask is either in the range or not, if it is in the range then it is white\n",
    "    #bitwise operation, where there are ones in the mask, it will show the color\n",
    "    \n",
    "    kernel = np.ones((15,15), np.float32)/255\n",
    "    smoothed = cv2.filter2D(res, -1, kernel)   \n",
    "    \n",
    "    blur = cv2.GaussianBlur(res, (15,15),0)\n",
    "    median = cv2.medianBlur(res,15)\n",
    "    bilateral = cv2.bilateralFilter(res, 15, 75, 75)\n",
    "    \n",
    "    cv2.imshow('frame',frame)\n",
    "    # cv2.imshow('mask',mask)\n",
    "    # cv2.imshow('res',res)\n",
    "    # cv2.imshow('smoothed',smoothed)\n",
    "    # cv2.imshow('blur',blur)\n",
    "    # cv2.imshow('median',median)\n",
    "    # cv2.imshow('bilateral',bilateral)\n",
    "    \n",
    "    k = cv2.waitKey(5) & 0xFF\n",
    "    if k == 27: #27 stands for escape key\n",
    "        break\n",
    "\n",
    "cv2.destroyAllWindows()\n",
    "cap.release() #releases the camera"
   ]
  },
  {
   "cell_type": "code",
   "execution_count": null,
   "metadata": {},
   "outputs": [],
   "source": []
  }
 ],
 "metadata": {
  "kernelspec": {
   "display_name": "Python [conda env:env1] *",
   "language": "python",
   "name": "conda-env-env1-py"
  },
  "language_info": {
   "codemirror_mode": {
    "name": "ipython",
    "version": 3
   },
   "file_extension": ".py",
   "mimetype": "text/x-python",
   "name": "python",
   "nbconvert_exporter": "python",
   "pygments_lexer": "ipython3",
   "version": "3.8.3"
  }
 },
 "nbformat": 4,
 "nbformat_minor": 4
}
