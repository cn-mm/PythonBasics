{
 "cells": [
  {
   "cell_type": "code",
   "execution_count": null,
   "metadata": {},
   "outputs": [],
   "source": [
    "#COLOR FILTERING"
   ]
  },
  {
   "cell_type": "code",
   "execution_count": null,
   "metadata": {},
   "outputs": [],
   "source": []
  },
  {
   "cell_type": "code",
   "execution_count": null,
   "metadata": {},
   "outputs": [],
   "source": [
    "#MODULES\n",
    "import cv2\n",
    "import numpy as np\n",
    "\n",
    "cap = cv2.VideoCapture(0) #0 to use webcam\n",
    "\n",
    "while(1):                 #while loop used for videos\n",
    "    _, frame = cap.read() \n",
    "    hsv = cv2.cvtColor(frame, cv2.COLOR_BGR2HSV) #hue saturation and value \n",
    "    \n",
    "    #hsv hue set value \n",
    "    lower_red = np.array([50,50,0])\n",
    "    upper_red = np.array([255,200,200])\n",
    "    \n",
    "    mask = cv2.inRange(hsv, lower_red, upper_red) #mask will be everything within the defined ranges\n",
    "    res = cv2.bitwise_and(frame,frame, mask= mask) #where there is something in the range and the mask is present\n",
    "    \n",
    "    #mask is either in the range or not, if it is in the range then it is white\n",
    "    #bitwise operation, where there are ones in the mask, it will show the color\n",
    "    cv2.imshow('frame',frame)\n",
    "    cv2.imshow('mask',mask)\n",
    "    cv2.imshow('res',res)\n",
    "    \n",
    "    k = cv2.waitKey(5) & 0xFF\n",
    "    if k == 'q':\n",
    "        break\n",
    "\n",
    "cv2.destroyAllWindows()\n",
    "cap.release() #releases the camera"
   ]
  },
  {
   "cell_type": "code",
   "execution_count": null,
   "metadata": {},
   "outputs": [],
   "source": []
  },
  {
   "cell_type": "code",
   "execution_count": null,
   "metadata": {},
   "outputs": [],
   "source": []
  }
 ],
 "metadata": {
  "kernelspec": {
   "display_name": "Python [conda env:env1] *",
   "language": "python",
   "name": "conda-env-env1-py"
  },
  "language_info": {
   "codemirror_mode": {
    "name": "ipython",
    "version": 3
   },
   "file_extension": ".py",
   "mimetype": "text/x-python",
   "name": "python",
   "nbconvert_exporter": "python",
   "pygments_lexer": "ipython3",
   "version": "3.8.3"
  }
 },
 "nbformat": 4,
 "nbformat_minor": 4
}
