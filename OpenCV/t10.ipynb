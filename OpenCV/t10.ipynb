{
 "cells": [
  {
   "cell_type": "code",
   "execution_count": null,
   "metadata": {},
   "outputs": [],
   "source": [
    "# EDGE DETECTION AND GRADIENTS"
   ]
  },
  {
   "cell_type": "code",
   "execution_count": 10,
   "metadata": {},
   "outputs": [],
   "source": [
    "#MODULES\n",
    "import cv2\n",
    "import numpy as np\n",
    "\n",
    "cap = cv2.VideoCapture(0) #0 to use webcam\n",
    "\n",
    "while(1):                 #while loop used for videos\n",
    "    _, frame = cap.read() \n",
    "    \n",
    "    laplacian = cv2.Laplacian(frame,cv2.CV_64F) #shows edges\n",
    "    sobelx = cv2.Sobel(frame,cv2.CV_64F,1,0,ksize=5) # shows gradients \n",
    "    sobely = cv2.Sobel(frame,cv2.CV_64F,0,1,ksize=5)\n",
    "    edges = cv2.Canny(frame,100,100) #edge detector\n",
    "    \n",
    "    cv2.imshow('frame',frame)\n",
    "    #cv2.imshow('laplacian',laplacian)\n",
    "    #cv2.imshow('sobelx',sobelx)\n",
    "    #cv2.imshow('sobely',sobely)\n",
    "\n",
    "    cv2.imshow('Edges',edges)\n",
    "    k = cv2.waitKey(5) & 0xFF\n",
    "    if k == 27:\n",
    "        break\n",
    "\n",
    "cv2.destroyAllWindows()\n",
    "cap.release() #releases the camera"
   ]
  },
  {
   "cell_type": "code",
   "execution_count": null,
   "metadata": {},
   "outputs": [],
   "source": []
  }
 ],
 "metadata": {
  "kernelspec": {
   "display_name": "Python [conda env:env1] *",
   "language": "python",
   "name": "conda-env-env1-py"
  },
  "language_info": {
   "codemirror_mode": {
    "name": "ipython",
    "version": 3
   },
   "file_extension": ".py",
   "mimetype": "text/x-python",
   "name": "python",
   "nbconvert_exporter": "python",
   "pygments_lexer": "ipython3",
   "version": "3.8.3"
  }
 },
 "nbformat": 4,
 "nbformat_minor": 4
}
