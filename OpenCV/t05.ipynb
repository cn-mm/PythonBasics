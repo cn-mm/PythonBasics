{
 "cells": [
  {
   "cell_type": "code",
   "execution_count": 1,
   "metadata": {},
   "outputs": [],
   "source": [
    "#IMAGE ARITHMETICS AND LOGICAL OPERATIONS "
   ]
  },
  {
   "cell_type": "code",
   "execution_count": 2,
   "metadata": {},
   "outputs": [],
   "source": [
    "#MODULES\n",
    "import cv2\n",
    "import numpy as np"
   ]
  },
  {
   "cell_type": "code",
   "execution_count": 21,
   "metadata": {},
   "outputs": [
    {
     "name": "stdout",
     "output_type": "stream",
     "text": [
      "(360, 640, 3)\n",
      "(640, 360)\n",
      "(1004, 1003, 3)\n",
      "(360, 640, 3)\n"
     ]
    }
   ],
   "source": [
    "# 500 x 250\n",
    "#Need pictures with identical size\n",
    "img1 = cv2.imread('data1.png')\n",
    "img2 = cv2.imread('data2.png')\n"
   ]
  },
  {
   "cell_type": "code",
   "execution_count": 32,
   "metadata": {},
   "outputs": [],
   "source": [
    "#RESIZING IMAGES\n",
    "\n",
    "bass = cv2.imread('bass.jpg')\n",
    "\n",
    "#specifying new dimensions\n",
    "dsize = (bass.shape[1], bass.shape[0]) \n",
    "\n",
    "sf = cv2.imread('SF.jpg')\n",
    "\n",
    "sfr = cv2.resize(sf, dsize, interpolation = cv2.INTER_NEAREST)\n",
    "\n"
   ]
  },
  {
   "cell_type": "code",
   "execution_count": 15,
   "metadata": {},
   "outputs": [],
   "source": [
    "?cv2.resize"
   ]
  },
  {
   "cell_type": "code",
   "execution_count": 39,
   "metadata": {},
   "outputs": [],
   "source": [
    "# add = sfr+ bass\n",
    "# add = cv2.add(sfr,bass) # adds pixel values together\n",
    "# weighted = cv2.addWeighted(sfr, 0.6, bass, 0.4, 0)\n",
    "\n",
    "cv2.imshow('add',add)\n",
    "cv2.waitKey(0)\n",
    "cv2.destroyAllWindows()"
   ]
  },
  {
   "cell_type": "code",
   "execution_count": 63,
   "metadata": {},
   "outputs": [],
   "source": [
    "def ishow(a,X):\n",
    "    cv2.imshow(str(a),X)\n",
    "    cv2.waitKey(0)\n",
    "    cv2.destroyAllWindows()"
   ]
  },
  {
   "cell_type": "code",
   "execution_count": 44,
   "metadata": {},
   "outputs": [],
   "source": [
    "# give the image a transparent background \n"
   ]
  },
  {
   "cell_type": "code",
   "execution_count": 69,
   "metadata": {},
   "outputs": [],
   "source": [
    "pylogo = cv2.imread('pythonlogo.png')\n",
    "rows, cols, channels = pylogo.shape\n",
    "roi = img1[0:rows, 0:cols]\n",
    "\n",
    "#Changing image to grayscale\n",
    "img2gray = cv2.cvtColor(pylogo, cv2.COLOR_BGR2GRAY)\n",
    "#ishow('gray image',img2gray)\n",
    "\n",
    "#Making image black or white by defining a threshold value\n",
    "ret, masked_pylogo = cv2.threshold(img2gray, 220, 255, cv2.THRESH_BINARY_INV)\n",
    "#ishow('masked logo',masked_pylogo)\n",
    "\n",
    "#Inverting the mask values\n",
    "mask_inv = cv2.bitwise_not(mask)\n",
    "#ishow('inverse_mask',mask_inv)\n",
    "\n",
    "# Now black-out the area of logo in ROI \n",
    "img1_bg = cv2.bitwise_and(roi,roi,mask = mask_inv)\n",
    "#ishow('backgroung data1 image',img1_bg)\n",
    "\n",
    "# Take only region of logo from logo image.\n",
    "img2_fg = cv2.bitwise_and(pylogo,pylogo,mask = mask)\n",
    "#ishow('image 2 foreground', img2_fg)\n",
    "\n",
    "dst = cv2.add(img1_bg,img2_fg)\n",
    "img1[0:rows, 0:cols ] = dst\n",
    "\n",
    "#ishow(img1)\n"
   ]
  },
  {
   "cell_type": "code",
   "execution_count": null,
   "metadata": {},
   "outputs": [],
   "source": []
  }
 ],
 "metadata": {
  "kernelspec": {
   "display_name": "Python [conda env:env1] *",
   "language": "python",
   "name": "conda-env-env1-py"
  },
  "language_info": {
   "codemirror_mode": {
    "name": "ipython",
    "version": 3
   },
   "file_extension": ".py",
   "mimetype": "text/x-python",
   "name": "python",
   "nbconvert_exporter": "python",
   "pygments_lexer": "ipython3",
   "version": "3.8.3"
  }
 },
 "nbformat": 4,
 "nbformat_minor": 4
}
