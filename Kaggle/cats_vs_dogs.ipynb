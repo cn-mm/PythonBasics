{
 "cells": [
  {
   "cell_type": "code",
   "execution_count": 2,
   "metadata": {},
   "outputs": [
    {
     "name": "stdout",
     "output_type": "stream",
     "text": [
      "2.2.0\n"
     ]
    }
   ],
   "source": [
    "#MODULES \n",
    "import tensorflow as tf\n",
    "from tensorflow import keras\n",
    "import matplotlib.pyplot as plt\n",
    "import cv2 \n",
    "import numpy as np\n",
    "import os\n",
    "from random import shuffle\n",
    "from tqdm import tqdm\n",
    "\n",
    "print(tf.__version__)"
   ]
  },
  {
   "cell_type": "code",
   "execution_count": 3,
   "metadata": {},
   "outputs": [],
   "source": [
    "# SETTING DIRECTORIES AND CONSTANT VALUES \n",
    "TRAIN_DIR = 'C:\\\\Users\\\\Hp\\\\Desktop\\\\Wobot\\\\Kaggle1\\\\dogs-vs-cats\\\\train\\\\train'\n",
    "TEST_DIR = 'C:\\\\Users\\\\Hp\\\\Desktop\\\\Wobot\\\\Kaggle1\\\\dogs-vs-cats\\\\test1\\\\test1'\n",
    "IMAGE_SIZE = 50\n",
    "ALPHA = 0.001 # Hyperparameter: Learning Rate alpha "
   ]
  },
  {
   "cell_type": "code",
   "execution_count": 4,
   "metadata": {},
   "outputs": [],
   "source": [
    "MODEL_NAME = 'dvc'"
   ]
  },
  {
   "cell_type": "code",
   "execution_count": 72,
   "metadata": {},
   "outputs": [],
   "source": [
    "#ONE HOT ENCODING\n",
    "# Cats [1,0]\n",
    "# Dogs [0,1]\n",
    "\n",
    "def img_label(img):\n",
    "    label = img.split('.')[-3]\n",
    "    if label == 'cat':\n",
    "        return np.array([1,0])\n",
    "    elif label == 'dog':\n",
    "        return np.array([0,1])\n",
    "    else:\n",
    "        print(\"Invalid image \")\n",
    "        return np.array([0,0])\n",
    "    \n",
    "def rev_label(arr):\n",
    "    if np.array_equal(arr, np.array([1,0])):\n",
    "        return 1\n",
    "    elif np.array_equal(arr, np.array([0,1])):\n",
    "        return 0\n",
    "    else:\n",
    "        print(\"wtf just happened bruh\")"
   ]
  },
  {
   "cell_type": "code",
   "execution_count": 89,
   "metadata": {},
   "outputs": [],
   "source": [
    "# HELPER FUNCTION TO SEE DATA \n",
    "def print_array_image(index, dataType = 'train'):\n",
    "    np.set_printoptions(linewidth=200)\n",
    "    if dataType == 'train':\n",
    "        plt.imshow(train_data[index])\n",
    "        print('Label :',train_labels[index])\n",
    "        print('Numpy array:',train_data[index])\n",
    "    elif dataType == 'test':\n",
    "        plt.imshow(test_data[index])\n",
    "        print(test_id[index])\n",
    "        print(test_data[index])\n",
    "    else:\n",
    "        print(\"Enter right type of data\")"
   ]
  },
  {
   "cell_type": "code",
   "execution_count": 7,
   "metadata": {},
   "outputs": [],
   "source": [
    "#CREATE TRAINING DATA \n",
    "def create_training_data():\n",
    "    training_data = []\n",
    "    for img in tqdm(os.listdir(TRAIN_DIR)):\n",
    "        label = img_label(img)\n",
    "        path = os.path.join(TRAIN_DIR, img)\n",
    "        img = cv2.imread(path, cv2.IMREAD_GRAYSCALE)\n",
    "        img = cv2.resize(img, (IMAGE_SIZE, IMAGE_SIZE), interpolation = cv2.INTER_NEAREST)\n",
    "        training_data.append([np.array(img), np.array(label)])\n",
    "    shuffle(training_data)\n",
    "    return np.array(training_data)"
   ]
  },
  {
   "cell_type": "code",
   "execution_count": 8,
   "metadata": {},
   "outputs": [
    {
     "name": "stderr",
     "output_type": "stream",
     "text": [
      "100%|███████████████████████████████████████████████████████████████████████████| 25000/25000 [00:35<00:00, 698.18it/s]\n"
     ]
    }
   ],
   "source": [
    "# INITIALISE TRAINING DATA\n",
    "training_data = create_training_data()\n",
    "train_data = np.array([i[0] for i in training_data])\n",
    "train_labels = np.array([i[1] for i in training_data])"
   ]
  },
  {
   "cell_type": "code",
   "execution_count": 74,
   "metadata": {},
   "outputs": [
    {
     "name": "stdout",
     "output_type": "stream",
     "text": [
      "(25000, 50, 50)\n",
      "(25000, 2)\n",
      "25000\n"
     ]
    }
   ],
   "source": [
    "print(train_data.shape) # (25000,50,50)\n",
    "print(train_labels.shape) # (2500,2)\n",
    "print(len(train_labels))"
   ]
  },
  {
   "cell_type": "code",
   "execution_count": 52,
   "metadata": {},
   "outputs": [],
   "source": [
    "# PROCESSING TEST DATA \n",
    "def process_testing_data():\n",
    "    testing_data = []\n",
    "    for img in tqdm(os.listdir(TEST_DIR)):\n",
    "        img_id = img.split('.')[-2]\n",
    "        path = os.path.join(TEST_DIR, img)\n",
    "        img = cv2.imread(path, cv2.IMREAD_GRAYSCALE)\n",
    "        img = cv2.resize(img, (IMAGE_SIZE, IMAGE_SIZE), interpolation = cv2.INTER_NEAREST)\n",
    "        testing_data.append([np.array(img), img_id])\n",
    "    return np.array(testing_data)"
   ]
  },
  {
   "cell_type": "code",
   "execution_count": 53,
   "metadata": {},
   "outputs": [
    {
     "name": "stderr",
     "output_type": "stream",
     "text": [
      "100%|███████████████████████████████████████████████████████████████████████████| 12500/12500 [00:16<00:00, 766.05it/s]\n"
     ]
    }
   ],
   "source": [
    "testing_data = process_testing_data()\n",
    "test_data = np.array([i[0] for i in testing_data])\n",
    "test_id = np.array([i[1] for i in testing_data])"
   ]
  },
  {
   "cell_type": "code",
   "execution_count": 55,
   "metadata": {},
   "outputs": [
    {
     "name": "stdout",
     "output_type": "stream",
     "text": [
      "(12500, 2)\n",
      "(12500, 50, 50)\n"
     ]
    }
   ],
   "source": [
    "print(testing_data.shape) # (12500, 2)\n",
    "print(test_data.shape) # (12500, 50, 50)"
   ]
  },
  {
   "cell_type": "code",
   "execution_count": 92,
   "metadata": {},
   "outputs": [],
   "source": [
    "# PRE PROCESSING STEP \n",
    "train_data  = train_data / 255.0\n",
    "test_data = test_data / 255.0"
   ]
  },
  {
   "cell_type": "code",
   "execution_count": 94,
   "metadata": {},
   "outputs": [
    {
     "name": "stdout",
     "output_type": "stream",
     "text": [
      "(25000,)\n"
     ]
    }
   ],
   "source": [
    "train_class = np.zeros((len(train_labels)))\n",
    "print(train_class.shape)\n",
    "for i in range(len(train_labels)):\n",
    "    train_class[i] = rev_label(train_labels[i])"
   ]
  },
  {
   "cell_type": "code",
   "execution_count": 97,
   "metadata": {},
   "outputs": [],
   "source": [
    "# CROSS VALIDATION \n",
    "traind = np.expand_dims(train_data[:20000] , axis=-1) \n",
    "trainc = np.expand_dims(train_class[:20000], axis = -1)\n",
    "\n",
    "testd = np.expand_dims(train_data[20000:] , axis=-1)\n",
    "testc = np.expand_dims(train_class[20000:], axis = -1)"
   ]
  },
  {
   "cell_type": "code",
   "execution_count": 98,
   "metadata": {},
   "outputs": [
    {
     "name": "stdout",
     "output_type": "stream",
     "text": [
      "(20000, 50, 50, 1)\n",
      "(20000, 1)\n",
      "(5000, 50, 50, 1)\n",
      "(5000, 1)\n"
     ]
    }
   ],
   "source": [
    "print(traind.shape)\n",
    "print(trainc.shape)\n",
    "print(testd.shape)\n",
    "print(testc.shape)"
   ]
  },
  {
   "cell_type": "code",
   "execution_count": 99,
   "metadata": {},
   "outputs": [],
   "source": [
    "from tensorflow.keras import datasets, layers, models"
   ]
  },
  {
   "cell_type": "code",
   "execution_count": 109,
   "metadata": {},
   "outputs": [],
   "source": [
    "model = models.Sequential()\n",
    "model.add(layers.Conv2D(32, (3, 3), activation='relu', input_shape=(50,50,1)))\n",
    "model.add(layers.MaxPooling2D((2, 2)))\n",
    "model.add(layers.Conv2D(64, (3, 3), activation='relu'))\n",
    "model.add(layers.MaxPooling2D((2, 2)))\n",
    "model.add(layers.Conv2D(64, (3, 3), activation='relu'))\n",
    "model.add(layers.MaxPooling2D((2, 2)))\n",
    "\n",
    "model.add(layers.Flatten())\n",
    "model.add(layers.Dense(128, activation='relu'))\n",
    "model.add(layers.Dropout(0.5))\n",
    "model.add(layers.Dense(32, activation='relu'))\n",
    "model.add(layers.Dropout(0.5))\n",
    "model.add(layers.Dense(2))"
   ]
  },
  {
   "cell_type": "code",
   "execution_count": 110,
   "metadata": {},
   "outputs": [
    {
     "name": "stdout",
     "output_type": "stream",
     "text": [
      "Model: \"sequential_3\"\n",
      "_________________________________________________________________\n",
      "Layer (type)                 Output Shape              Param #   \n",
      "=================================================================\n",
      "conv2d_9 (Conv2D)            (None, 48, 48, 32)        320       \n",
      "_________________________________________________________________\n",
      "max_pooling2d_7 (MaxPooling2 (None, 24, 24, 32)        0         \n",
      "_________________________________________________________________\n",
      "conv2d_10 (Conv2D)           (None, 22, 22, 64)        18496     \n",
      "_________________________________________________________________\n",
      "max_pooling2d_8 (MaxPooling2 (None, 11, 11, 64)        0         \n",
      "_________________________________________________________________\n",
      "conv2d_11 (Conv2D)           (None, 9, 9, 64)          36928     \n",
      "_________________________________________________________________\n",
      "max_pooling2d_9 (MaxPooling2 (None, 4, 4, 64)          0         \n",
      "_________________________________________________________________\n",
      "flatten_3 (Flatten)          (None, 1024)              0         \n",
      "_________________________________________________________________\n",
      "dense_8 (Dense)              (None, 128)               131200    \n",
      "_________________________________________________________________\n",
      "dropout (Dropout)            (None, 128)               0         \n",
      "_________________________________________________________________\n",
      "dense_9 (Dense)              (None, 32)                4128      \n",
      "_________________________________________________________________\n",
      "dropout_1 (Dropout)          (None, 32)                0         \n",
      "_________________________________________________________________\n",
      "dense_10 (Dense)             (None, 2)                 66        \n",
      "=================================================================\n",
      "Total params: 191,138\n",
      "Trainable params: 191,138\n",
      "Non-trainable params: 0\n",
      "_________________________________________________________________\n"
     ]
    }
   ],
   "source": [
    "model.summary()"
   ]
  },
  {
   "cell_type": "code",
   "execution_count": 112,
   "metadata": {},
   "outputs": [
    {
     "name": "stdout",
     "output_type": "stream",
     "text": [
      "Epoch 1/15\n",
      "625/625 [==============================] - 54s 87ms/step - loss: 0.3915 - accuracy: 0.8319 - val_loss: 0.4442 - val_accuracy: 0.7952\n",
      "Epoch 2/15\n",
      "625/625 [==============================] - 55s 88ms/step - loss: 0.3692 - accuracy: 0.8393 - val_loss: 0.4095 - val_accuracy: 0.8142\n",
      "Epoch 3/15\n",
      "625/625 [==============================] - 53s 84ms/step - loss: 0.3411 - accuracy: 0.8530 - val_loss: 0.4407 - val_accuracy: 0.8016\n",
      "Epoch 4/15\n",
      "625/625 [==============================] - 52s 83ms/step - loss: 0.3191 - accuracy: 0.8623 - val_loss: 0.4920 - val_accuracy: 0.7846\n",
      "Epoch 5/15\n",
      "625/625 [==============================] - 53s 85ms/step - loss: 0.2922 - accuracy: 0.8784 - val_loss: 0.4226 - val_accuracy: 0.8126\n",
      "Epoch 6/15\n",
      "625/625 [==============================] - 55s 88ms/step - loss: 0.2696 - accuracy: 0.8876 - val_loss: 0.4523 - val_accuracy: 0.8082\n",
      "Epoch 7/15\n",
      "625/625 [==============================] - 52s 83ms/step - loss: 0.2484 - accuracy: 0.8980 - val_loss: 0.4469 - val_accuracy: 0.8176\n",
      "Epoch 8/15\n",
      "625/625 [==============================] - 51s 81ms/step - loss: 0.2328 - accuracy: 0.9071 - val_loss: 0.4577 - val_accuracy: 0.8204\n",
      "Epoch 9/15\n",
      "625/625 [==============================] - 53s 85ms/step - loss: 0.2142 - accuracy: 0.9133 - val_loss: 0.4920 - val_accuracy: 0.8204\n",
      "Epoch 10/15\n",
      "625/625 [==============================] - 52s 83ms/step - loss: 0.1942 - accuracy: 0.9231 - val_loss: 0.5319 - val_accuracy: 0.8090\n",
      "Epoch 11/15\n",
      "625/625 [==============================] - 53s 86ms/step - loss: 0.1787 - accuracy: 0.9277 - val_loss: 0.5168 - val_accuracy: 0.8118\n",
      "Epoch 12/15\n",
      "625/625 [==============================] - 52s 82ms/step - loss: 0.1661 - accuracy: 0.9351 - val_loss: 0.6127 - val_accuracy: 0.8168\n",
      "Epoch 13/15\n",
      "625/625 [==============================] - 48s 76ms/step - loss: 0.1534 - accuracy: 0.9410 - val_loss: 0.6538 - val_accuracy: 0.8116\n",
      "Epoch 14/15\n",
      "625/625 [==============================] - 49s 79ms/step - loss: 0.1432 - accuracy: 0.9456 - val_loss: 0.6854 - val_accuracy: 0.8068\n",
      "Epoch 15/15\n",
      "625/625 [==============================] - 51s 82ms/step - loss: 0.1273 - accuracy: 0.9527 - val_loss: 0.6957 - val_accuracy: 0.8106\n"
     ]
    }
   ],
   "source": [
    "model.compile(optimizer='adam',\n",
    "              loss=tf.keras.losses.SparseCategoricalCrossentropy(from_logits=True),\n",
    "              metrics=['accuracy'])\n",
    "\n",
    "history = model.fit(traind, trainc, epochs=15,\n",
    "                    validation_data=(testd, testc))"
   ]
  },
  {
   "cell_type": "code",
   "execution_count": null,
   "metadata": {},
   "outputs": [],
   "source": []
  },
  {
   "cell_type": "code",
   "execution_count": null,
   "metadata": {},
   "outputs": [],
   "source": [
    "with open('submission')"
   ]
  }
 ],
 "metadata": {
  "kernelspec": {
   "display_name": "Python [conda env:env1] *",
   "language": "python",
   "name": "conda-env-env1-py"
  },
  "language_info": {
   "codemirror_mode": {
    "name": "ipython",
    "version": 3
   },
   "file_extension": ".py",
   "mimetype": "text/x-python",
   "name": "python",
   "nbconvert_exporter": "python",
   "pygments_lexer": "ipython3",
   "version": "3.8.3"
  }
 },
 "nbformat": 4,
 "nbformat_minor": 4
}
