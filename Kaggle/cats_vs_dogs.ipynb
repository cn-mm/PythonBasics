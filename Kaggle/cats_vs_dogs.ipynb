{
 "cells": [
  {
   "cell_type": "code",
   "execution_count": 2,
   "metadata": {},
   "outputs": [
    {
     "name": "stdout",
     "output_type": "stream",
     "text": [
      "2.2.0\n"
     ]
    }
   ],
   "source": [
    "#MODULES \n",
    "import tensorflow as tf\n",
    "from tensorflow import keras\n",
    "import matplotlib.pyplot as plt\n",
    "import cv2 \n",
    "import numpy as np\n",
    "import os\n",
    "from random import shuffle\n",
    "from tqdm import tqdm\n",
    "\n",
    "print(tf.__version__)"
   ]
  },
  {
   "cell_type": "code",
   "execution_count": 3,
   "metadata": {},
   "outputs": [],
   "source": [
    "# SETTING DIRECTORIES AND CONSTANT VALUES \n",
    "TRAIN_DIR = 'C:\\\\Users\\\\Hp\\\\Desktop\\\\Wobot\\\\Kaggle1\\\\dogs-vs-cats\\\\train\\\\train'\n",
    "TEST_DIR = 'C:\\\\Users\\\\Hp\\\\Desktop\\\\Wobot\\\\Kaggle1\\\\dogs-vs-cats\\\\test1\\\\test1'\n",
    "IMAGE_SIZE = 64\n",
    "ALPHA = 0.001 # Hyperparameter: Learning Rate alpha "
   ]
  },
  {
   "cell_type": "code",
   "execution_count": 5,
   "metadata": {},
   "outputs": [],
   "source": [
    "#ONE HOT ENCODING\n",
    "# Cats [1,0]\n",
    "# Dogs [0,1]\n",
    "def img_label(img):\n",
    "    label = img.split('.')[-3]\n",
    "    if label == 'cat':\n",
    "        return np.array([1,0])\n",
    "    elif label == 'dog':\n",
    "        return np.array([0,1])\n",
    "    else:\n",
    "        print(\"Invalid image \")\n",
    "        return np.array([0,0])\n",
    "  \n",
    "# GIVE ONE HOT ENCODED ARRAY AND RETURNS 1 OR 0\n",
    "def label_class_str(arr):\n",
    "    if np.array_equal(arr, np.array([1,0])):\n",
    "        return 1\n",
    "    elif np.array_equal(arr, np.array([0,1])):\n",
    "        return 0\n",
    "    else:\n",
    "        print(\"Something went wrong\")"
   ]
  },
  {
   "cell_type": "code",
   "execution_count": 7,
   "metadata": {},
   "outputs": [],
   "source": [
    "# HELPER FUNCTION TO SEE DATA \n",
    "def print_array_image(index, dataType = 'train'):\n",
    "    np.set_printoptions(linewidth=200)\n",
    "    if dataType == 'train':\n",
    "        plt.imshow(train_data[index])\n",
    "        print('Label :',train_labels[index])\n",
    "        print('Numpy array:',train_data[index])\n",
    "    elif dataType == 'test':\n",
    "        plt.imshow(test_data[index])\n",
    "        print(test_id[index])\n",
    "        print('Numpy array:',test_data[index])\n",
    "    else:\n",
    "        print(\"Enter right type of data\")"
   ]
  },
  {
   "cell_type": "code",
   "execution_count": 8,
   "metadata": {},
   "outputs": [],
   "source": [
    "#CREATE TRAINING DATA \n",
    "# RETURNS A NUMPY ARRAY WITH NUMPY ARRAYS \n",
    "# ARR 1 CONTAINS THE IMAGE\n",
    "# ARR 2 CONTAINS THE LABEL (ONE HOT)\n",
    "def create_training_data():\n",
    "    training_data = []\n",
    "    for img in tqdm(os.listdir(TRAIN_DIR)):\n",
    "        label = img_label(img)\n",
    "        path = os.path.join(TRAIN_DIR, img)\n",
    "        img = cv2.imread(path, cv2.IMREAD_GRAYSCALE)\n",
    "        img = cv2.resize(img, (IMAGE_SIZE, IMAGE_SIZE), interpolation = cv2.INTER_NEAREST)\n",
    "        training_data.append([np.array(img), np.array(label)])\n",
    "    shuffle(training_data)\n",
    "    return np.array(training_data)"
   ]
  },
  {
   "cell_type": "code",
   "execution_count": null,
   "metadata": {},
   "outputs": [],
   "source": [
    "# INITIALISE TRAINING DATA\n",
    "training_data = create_training_data()\n",
    "train_data = np.array([i[0] for i in training_data])\n",
    "train_labels = np.array([i[1] for i in training_data])\n",
    "train_str = np.array(['Dog' ])"
   ]
  },
  {
   "cell_type": "code",
   "execution_count": null,
   "metadata": {},
   "outputs": [],
   "source": [
    "print(train_data.shape) # (25000,50,50)\n",
    "print(train_labels.shape) # (2500,2)\n",
    "print(len(train_labels))"
   ]
  },
  {
   "cell_type": "code",
   "execution_count": null,
   "metadata": {},
   "outputs": [],
   "source": [
    "# PROCESSING TEST DATA \n",
    "def process_testing_data():\n",
    "    testing_data = []\n",
    "    for img in tqdm(os.listdir(TEST_DIR)):\n",
    "        img_id = img.split('.')[-2]\n",
    "        path = os.path.join(TEST_DIR, img)\n",
    "        img = cv2.imread(path, cv2.IMREAD_GRAYSCALE)\n",
    "        img = cv2.resize(img, (IMAGE_SIZE, IMAGE_SIZE), interpolation = cv2.INTER_NEAREST)\n",
    "        testing_data.append([np.array(img), img_id])\n",
    "    return np.array(testing_data)"
   ]
  },
  {
   "cell_type": "code",
   "execution_count": null,
   "metadata": {},
   "outputs": [],
   "source": [
    "testing_data = process_testing_data()\n",
    "test_data = np.array([i[0] for i in testing_data])\n",
    "test_id = np.array([i[1] for i in testing_data])"
   ]
  },
  {
   "cell_type": "code",
   "execution_count": null,
   "metadata": {},
   "outputs": [],
   "source": [
    "print(testing_data.shape) # (12500, 2)\n",
    "print(test_data.shape) # (12500, 50, 50)"
   ]
  },
  {
   "cell_type": "code",
   "execution_count": null,
   "metadata": {},
   "outputs": [],
   "source": [
    "# PRE PROCESSING STEP \n",
    "train_data  = train_data / 255.0\n",
    "test_data = test_data / 255.0"
   ]
  },
  {
   "cell_type": "code",
   "execution_count": null,
   "metadata": {},
   "outputs": [],
   "source": [
    "train_class = np.zeros((len(train_labels)))\n",
    "print(train_class.shape)\n",
    "for i in range(len(train_labels)):\n",
    "    train_class[i] = rev_label(train_labels[i])"
   ]
  },
  {
   "cell_type": "code",
   "execution_count": null,
   "metadata": {},
   "outputs": [],
   "source": [
    "# CROSS VALIDATION \n",
    "traind = np.expand_dims(train_data[5000:] , axis=-1) \n",
    "trainc = np.expand_dims(train_class[5000:], axis = -1)\n",
    "trainl = np.expand_dims(train_labels[5000:], axis = -1)\n",
    "\n",
    "testd = np.expand_dims(train_data[:5000] , axis=-1)\n",
    "testc = np.expand_dims(train_class[:5000], axis = -1)\n",
    "testl = np.expand_dims(train_labels[:5000], axis = -1)"
   ]
  },
  {
   "cell_type": "code",
   "execution_count": null,
   "metadata": {},
   "outputs": [],
   "source": [
    "print(traind.shape)\n",
    "print(trainc.shape)\n",
    "print(testd.shape)\n",
    "print(testc.shape)"
   ]
  },
  {
   "cell_type": "code",
   "execution_count": null,
   "metadata": {},
   "outputs": [],
   "source": [
    "from tensorflow.keras import datasets, layers, models"
   ]
  },
  {
   "cell_type": "code",
   "execution_count": null,
   "metadata": {},
   "outputs": [],
   "source": [
    "model = models.Sequential()\n",
    "model.add(layers.Conv2D(32, (3, 3), activation='relu', input_shape=(50,50,1)))\n",
    "model.add(layers.MaxPooling2D((2, 2)))\n",
    "model.add(layers.Conv2D(64, (3, 3), activation='relu'))\n",
    "model.add(layers.MaxPooling2D((2, 2)))\n",
    "model.add(layers.Conv2D(64, (3, 3), activation='relu'))\n",
    "model.add(layers.MaxPooling2D((2, 2)))\n",
    "\n",
    "model.add(layers.Flatten())\n",
    "model.add(layers.Dense(128, activation='relu'))\n",
    "model.add(layers.Dropout(0.5))\n",
    "model.add(layers.Dense(32, activation='relu'))\n",
    "model.add(layers.Dropout(0.5))\n",
    "model.add(layers.Dense(2, activation='softmax'))"
   ]
  },
  {
   "cell_type": "code",
   "execution_count": null,
   "metadata": {},
   "outputs": [],
   "source": [
    "model.summary()"
   ]
  },
  {
   "cell_type": "code",
   "execution_count": null,
   "metadata": {},
   "outputs": [],
   "source": [
    "model.compile(optimizer='adam',\n",
    "              loss=tf.keras.losses.SparseCategoricalCrossentropy(from_logits=True),\n",
    "              metrics=['accuracy'])\n",
    "\n",
    "history = model.fit(traind, trainc, epochs=25,\n",
    "                    validation_data=(testd, testc))"
   ]
  },
  {
   "cell_type": "code",
   "execution_count": null,
   "metadata": {},
   "outputs": [],
   "source": [
    "print(test_data.reshape((12500,50,50,1)).shape)\n",
    "test_data1 = test_data.reshape((12500,50,50,1))\n",
    "print(test_id.shape)"
   ]
  },
  {
   "cell_type": "code",
   "execution_count": null,
   "metadata": {},
   "outputs": [],
   "source": [
    "print(test_data1.shape)"
   ]
  },
  {
   "cell_type": "code",
   "execution_count": null,
   "metadata": {},
   "outputs": [],
   "source": [
    "pred = model.predict(test_data1)"
   ]
  },
  {
   "cell_type": "code",
   "execution_count": null,
   "metadata": {},
   "outputs": [],
   "source": [
    "print(len(pred))"
   ]
  },
  {
   "cell_type": "code",
   "execution_count": null,
   "metadata": {},
   "outputs": [],
   "source": [
    "print(type(pred))\n",
    "print(test_id.shape)\n",
    "print(test_id[12499])"
   ]
  },
  {
   "cell_type": "code",
   "execution_count": null,
   "metadata": {},
   "outputs": [],
   "source": [
    "test_new = np.unique(test_id)\n",
    "print(test_new.shape)   "
   ]
  },
  {
   "cell_type": "code",
   "execution_count": null,
   "metadata": {},
   "outputs": [],
   "source": [
    "fig=plt.figure()\n",
    "    \n",
    "ind = 1\n",
    "#y = fig.add_subplot(3,4,num+1)\n",
    "orig = test_data[int(ind)]\n",
    "data = test_data[int(ind)].reshape(IMAGE_SIZE,IMAGE_SIZE,1)\n",
    "pred1 = (np.argmax(pred[int(i)-1]))\n",
    "    \n",
    "if pred1 == 0: str_label='Dog'\n",
    "else: str_label='Cat'\n",
    "     \n",
    "    \n",
    "plt.imshow(orig,cmap='gray')\n",
    "plt.title(str_label)\n",
    "print(ind)\n",
    "#y.axes.get_xaxis().set_visible(False)\n",
    "#y.axes.get_yaxis().set_visible(False)\n",
    "#plt.show()"
   ]
  },
  {
   "cell_type": "code",
   "execution_count": null,
   "metadata": {},
   "outputs": [],
   "source": [
    "with open('sub_try.csv', 'w') as f:\n",
    "    \n",
    "    for i in test_new:\n",
    "        j = (np.argmax(pred[int(i)-1]))\n",
    "        print(i, j)\n",
    "        f.write(f\"{i},{j}\\n\")\n",
    "        \n",
    "    \n"
   ]
  },
  {
   "cell_type": "code",
   "execution_count": null,
   "metadata": {},
   "outputs": [],
   "source": [
    "with open('sub_try.csv', 'w') as f:\n",
    "    f.write('id, label\\n')"
   ]
  },
  {
   "cell_type": "code",
   "execution_count": null,
   "metadata": {},
   "outputs": [],
   "source": [
    "print(len(pred))"
   ]
  },
  {
   "cell_type": "code",
   "execution_count": null,
   "metadata": {},
   "outputs": [],
   "source": [
    "with open('sub_try.csv', 'w') as f:\n",
    "    for i in test_id:\n",
    "        img_id = int(i)\n",
    "        j = np.argmax(pred[int(i)])\n",
    "        f.write('{},{}\\n'.format(img_id, j))\n",
    "       \n"
   ]
  },
  {
   "cell_type": "code",
   "execution_count": null,
   "metadata": {},
   "outputs": [],
   "source": [
    "\n",
    "fig = plt.figure()\n",
    "\n",
    "for num, data in enumerate(testing_data[:12]):\n",
    "    "
   ]
  }
 ],
 "metadata": {
  "kernelspec": {
   "display_name": "Python [conda env:env1] *",
   "language": "python",
   "name": "conda-env-env1-py"
  },
  "language_info": {
   "codemirror_mode": {
    "name": "ipython",
    "version": 3
   },
   "file_extension": ".py",
   "mimetype": "text/x-python",
   "name": "python",
   "nbconvert_exporter": "python",
   "pygments_lexer": "ipython3",
   "version": "3.8.3"
  }
 },
 "nbformat": 4,
 "nbformat_minor": 4
}
