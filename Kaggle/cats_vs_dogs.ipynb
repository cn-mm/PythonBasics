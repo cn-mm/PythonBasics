{
 "cells": [
  {
   "cell_type": "code",
   "execution_count": 2,
   "metadata": {},
   "outputs": [
    {
     "name": "stdout",
     "output_type": "stream",
     "text": [
      "2.2.0\n"
     ]
    }
   ],
   "source": [
    "#MODULES \n",
    "import tensorflow as tf\n",
    "from tensorflow import keras\n",
    "import matplotlib.pyplot as plt\n",
    "import cv2 \n",
    "import numpy as np\n",
    "import os\n",
    "from random import shuffle\n",
    "from tqdm import tqdm\n",
    "\n",
    "print(tf.__version__)"
   ]
  },
  {
   "cell_type": "code",
   "execution_count": 3,
   "metadata": {},
   "outputs": [],
   "source": [
    "# SETTING DIRECTORIES AND CONSTANT VALUES \n",
    "TRAIN_DIR = 'C:\\\\Users\\\\Hp\\\\Desktop\\\\Wobot\\\\Kaggle1\\\\dogs-vs-cats\\\\train\\\\train'\n",
    "TEST_DIR = 'C:\\\\Users\\\\Hp\\\\Desktop\\\\Wobot\\\\Kaggle1\\\\dogs-vs-cats\\\\test1\\\\test1'\n",
    "IMAGE_SIZE = 50\n",
    "ALPHA = 0.001 # Hyperparameter: Learning Rate alpha "
   ]
  },
  {
   "cell_type": "code",
   "execution_count": 4,
   "metadata": {},
   "outputs": [],
   "source": [
    "MODEL_NAME = 'dvc'"
   ]
  },
  {
   "cell_type": "code",
   "execution_count": 72,
   "metadata": {},
   "outputs": [],
   "source": [
    "#ONE HOT ENCODING\n",
    "# Cats [1,0]\n",
    "# Dogs [0,1]\n",
    "\n",
    "def img_label(img):\n",
    "    label = img.split('.')[-3]\n",
    "    if label == 'cat':\n",
    "        return np.array([1,0])\n",
    "    elif label == 'dog':\n",
    "        return np.array([0,1])\n",
    "    else:\n",
    "        print(\"Invalid image \")\n",
    "        return np.array([0,0])\n",
    "    \n",
    "def rev_label(arr):\n",
    "    if np.array_equal(arr, np.array([1,0])):\n",
    "        return 1\n",
    "    elif np.array_equal(arr, np.array([0,1])):\n",
    "        return 0\n",
    "    else:\n",
    "        print(\"wtf just happened bruh\")"
   ]
  },
  {
   "cell_type": "code",
   "execution_count": 89,
   "metadata": {},
   "outputs": [],
   "source": [
    "# HELPER FUNCTION TO SEE DATA \n",
    "def print_array_image(index, dataType = 'train'):\n",
    "    np.set_printoptions(linewidth=200)\n",
    "    if dataType == 'train':\n",
    "        plt.imshow(train_data[index])\n",
    "        print('Label :',train_labels[index])\n",
    "        print('Numpy array:',train_data[index])\n",
    "    elif dataType == 'test':\n",
    "        plt.imshow(test_data[index])\n",
    "        print(test_id[index])\n",
    "        print(test_data[index])\n",
    "    else:\n",
    "        print(\"Enter right type of data\")"
   ]
  },
  {
   "cell_type": "code",
   "execution_count": 7,
   "metadata": {},
   "outputs": [],
   "source": [
    "#CREATE TRAINING DATA \n",
    "def create_training_data():\n",
    "    training_data = []\n",
    "    for img in tqdm(os.listdir(TRAIN_DIR)):\n",
    "        label = img_label(img)\n",
    "        path = os.path.join(TRAIN_DIR, img)\n",
    "        img = cv2.imread(path, cv2.IMREAD_GRAYSCALE)\n",
    "        img = cv2.resize(img, (IMAGE_SIZE, IMAGE_SIZE), interpolation = cv2.INTER_NEAREST)\n",
    "        training_data.append([np.array(img), np.array(label)])\n",
    "    shuffle(training_data)\n",
    "    return np.array(training_data)"
   ]
  },
  {
   "cell_type": "code",
   "execution_count": 8,
   "metadata": {},
   "outputs": [
    {
     "name": "stderr",
     "output_type": "stream",
     "text": [
      "100%|███████████████████████████████████████████████████████████████████████████| 25000/25000 [00:35<00:00, 698.18it/s]\n"
     ]
    }
   ],
   "source": [
    "# INITIALISE TRAINING DATA\n",
    "training_data = create_training_data()\n",
    "train_data = np.array([i[0] for i in training_data])\n",
    "train_labels = np.array([i[1] for i in training_data])"
   ]
  },
  {
   "cell_type": "code",
   "execution_count": 74,
   "metadata": {},
   "outputs": [
    {
     "name": "stdout",
     "output_type": "stream",
     "text": [
      "(25000, 50, 50)\n",
      "(25000, 2)\n",
      "25000\n"
     ]
    }
   ],
   "source": [
    "print(train_data.shape) # (25000,50,50)\n",
    "print(train_labels.shape) # (2500,2)\n",
    "print(len(train_labels))"
   ]
  },
  {
   "cell_type": "code",
   "execution_count": 52,
   "metadata": {},
   "outputs": [],
   "source": [
    "# PROCESSING TEST DATA \n",
    "def process_testing_data():\n",
    "    testing_data = []\n",
    "    for img in tqdm(os.listdir(TEST_DIR)):\n",
    "        img_id = img.split('.')[-2]\n",
    "        path = os.path.join(TEST_DIR, img)\n",
    "        img = cv2.imread(path, cv2.IMREAD_GRAYSCALE)\n",
    "        img = cv2.resize(img, (IMAGE_SIZE, IMAGE_SIZE), interpolation = cv2.INTER_NEAREST)\n",
    "        testing_data.append([np.array(img), img_id])\n",
    "    return np.array(testing_data)"
   ]
  },
  {
   "cell_type": "code",
   "execution_count": 53,
   "metadata": {},
   "outputs": [
    {
     "name": "stderr",
     "output_type": "stream",
     "text": [
      "100%|███████████████████████████████████████████████████████████████████████████| 12500/12500 [00:16<00:00, 766.05it/s]\n"
     ]
    }
   ],
   "source": [
    "testing_data = process_testing_data()\n",
    "test_data = np.array([i[0] for i in testing_data])\n",
    "test_id = np.array([i[1] for i in testing_data])"
   ]
  },
  {
   "cell_type": "code",
   "execution_count": 55,
   "metadata": {},
   "outputs": [
    {
     "name": "stdout",
     "output_type": "stream",
     "text": [
      "(12500, 2)\n",
      "(12500, 50, 50)\n"
     ]
    }
   ],
   "source": [
    "print(testing_data.shape) # (12500, 2)\n",
    "print(test_data.shape) # (12500, 50, 50)"
   ]
  },
  {
   "cell_type": "code",
   "execution_count": 92,
   "metadata": {},
   "outputs": [],
   "source": [
    "# PRE PROCESSING STEP \n",
    "train_data  = train_data / 255.0\n",
    "test_data = test_data / 255.0"
   ]
  },
  {
   "cell_type": "code",
   "execution_count": null,
   "metadata": {},
   "outputs": [],
   "source": [
    "# MODEL \n"
   ]
  },
  {
   "cell_type": "code",
   "execution_count": 76,
   "metadata": {},
   "outputs": [
    {
     "name": "stdout",
     "output_type": "stream",
     "text": [
      "<class 'numpy.ndarray'>\n",
      "[1 0]\n",
      "0\n",
      "(25000,)\n"
     ]
    }
   ],
   "source": [
    "print(type(train_labels[0]))\n",
    "print(train_labels[0])\n",
    "print(rev_label([0,1]))\n",
    "\n",
    "\n",
    "train_class = np.zeros((len(train_labels)))\n",
    "print(train_class.shape)"
   ]
  },
  {
   "cell_type": "code",
   "execution_count": 86,
   "metadata": {},
   "outputs": [],
   "source": [
    "for i in range(len(train_labels)):\n",
    "    train_class[i] = rev_label(train_labels[i])"
   ]
  },
  {
   "cell_type": "code",
   "execution_count": 88,
   "metadata": {},
   "outputs": [
    {
     "name": "stdout",
     "output_type": "stream",
     "text": [
      "<class 'numpy.ndarray'>\n"
     ]
    }
   ],
   "source": [
    "print(type(train_class))"
   ]
  },
  {
   "cell_type": "code",
   "execution_count": 93,
   "metadata": {},
   "outputs": [
    {
     "name": "stdout",
     "output_type": "stream",
     "text": [
      "10015\n",
      "[[0.17254902 0.18039216 0.16078431 ... 0.43921569 0.51764706 0.42352941]\n",
      " [0.18039216 0.21568627 0.15686275 ... 0.44313725 0.50588235 0.42352941]\n",
      " [0.25490196 0.21960784 0.17647059 ... 0.44705882 0.45098039 0.39607843]\n",
      " ...\n",
      " [0.63921569 0.65882353 0.65098039 ... 0.58823529 0.57254902 0.56078431]\n",
      " [0.67058824 0.6627451  0.68627451 ... 0.6        0.58039216 0.61176471]\n",
      " [0.64313725 0.68235294 0.71372549 ... 0.60392157 0.64313725 0.59607843]]\n"
     ]
    },
    {
     "data": {
      "image/png": "[encoded data removed]",
      "text/plain": [
       "<Figure size 432x288 with 1 Axes>"
      ]
     },
     "metadata": {
      "needs_background": "light"
     },
     "output_type": "display_data"
    }
   ],
   "source": []
  },
  {
   "cell_type": "code",
   "execution_count": null,
   "metadata": {},
   "outputs": [],
   "source": []
  }
 ],
 "metadata": {
  "kernelspec": {
   "display_name": "Python [conda env:env1] *",
   "language": "python",
   "name": "conda-env-env1-py"
  },
  "language_info": {
   "codemirror_mode": {
    "name": "ipython",
    "version": 3
   },
   "file_extension": ".py",
   "mimetype": "text/x-python",
   "name": "python",
   "nbconvert_exporter": "python",
   "pygments_lexer": "ipython3",
   "version": "3.8.3"
  }
 },
 "nbformat": 4,
 "nbformat_minor": 4
}
